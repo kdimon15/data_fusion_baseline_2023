{
 "cells": [
  {
   "cell_type": "code",
   "execution_count": 1,
   "metadata": {},
   "outputs": [
    {
     "name": "stdout",
     "output_type": "stream",
     "text": [
      "Start score: 0.668464\n",
      "End score: 0.67369\n"
     ]
    }
   ],
   "source": [
    "import pandas as pd\n",
    "import numpy as np\n",
    "from model import TransactionsRnn, TransactionsDataset, process_for_nn\n",
    "from sklearn.model_selection import train_test_split\n",
    "import torch\n",
    "import pickle\n",
    "from torch.utils.data import default_collate, DataLoader\n",
    "from sklearn import metrics\n",
    "\n",
    "df = pd.read_csv(\n",
    "    'data/transactions_finetune.csv',\n",
    "    parse_dates=[\"transaction_dttm\"],\n",
    "    dtype={\"user_id\": np.int32, \"mcc_code\": np.int16, \"currency_rk\": np.int8, \"transaction_amt\": float},\n",
    ")\n",
    "target = pd.read_csv('data/target_finetune.csv')\n",
    "\n",
    "train_df = df[df.user_id <= 600000]\n",
    "valid_df = df[df.user_id > 600000]\n",
    "\n",
    "train_target = target[target.user_id <= 600000].sort_values('user_id')\n",
    "valid_target = target[target.user_id > 600000].sort_values('user_id')\n",
    "\n",
    "train_df.to_csv('data/train.csv', index=False)\n",
    "valid_df.to_csv('data/valid.csv', index=False)\n",
    "\n",
    "train_df = (\n",
    "    train_df.dropna().assign(\n",
    "        hour=lambda x: x.transaction_dttm.dt.hour,\n",
    "        day=lambda x: x.transaction_dttm.dt.dayofweek,\n",
    "        month=lambda x: x.transaction_dttm.dt.month,\n",
    "        number_day=lambda x: x.transaction_dttm.dt.day,\n",
    "    )\n",
    ")\n",
    "valid_df = (\n",
    "    valid_df.dropna().assign(\n",
    "        hour=lambda x: x.transaction_dttm.dt.hour,\n",
    "        day=lambda x: x.transaction_dttm.dt.dayofweek,\n",
    "        month=lambda x: x.transaction_dttm.dt.month,\n",
    "        number_day=lambda x: x.transaction_dttm.dt.day,\n",
    "    )\n",
    ")\n",
    "\n",
    "bins = pickle.load(open('nn_bins.pickle', 'rb'))\n",
    "features = bins.pop('features')\n",
    "\n",
    "train_df = process_for_nn(train_df, features, bins)\n",
    "valid_df = process_for_nn(valid_df, features, bins)\n",
    "\n",
    "\n",
    "train_ds = TransactionsDataset(train_df, dftarget=train_target)\n",
    "valid_ds = TransactionsDataset(valid_df)\n",
    "\n",
    "def collate_loader(x):\n",
    "    return tuple(x_.to(device) for x_ in default_collate(x))\n",
    "\n",
    "train_loader = DataLoader(train_ds, batch_size=200, shuffle=True, drop_last=True, collate_fn=collate_loader)\n",
    "valid_loader = DataLoader(valid_ds, batch_size=200, shuffle=False, drop_last=False, collate_fn=collate_loader)\n",
    "\n",
    "device = torch.device(\"cuda\" if torch.cuda.is_available() else \"cpu\")\n",
    "model = TransactionsRnn()\n",
    "model.load_state_dict(torch.load('nn_weights.ckpt'))\n",
    "model.to(device)\n",
    "\n",
    "optimizer = torch.optim.Adam(model.parameters(), lr=1e-5)\n",
    "criterion = torch.nn.CrossEntropyLoss()\n",
    "\n",
    "\n",
    "model.eval()\n",
    "start_preds = []\n",
    "with torch.no_grad():\n",
    "    for data, _ in valid_loader:\n",
    "        output = model(data)\n",
    "        start_preds.append(output.detach().cpu().numpy())\n",
    "start_preds = np.concatenate(start_preds)[:, 1]\n",
    "print(f'Start score: {round(metrics.roc_auc_score(valid_target[\"target\"], start_preds), 6)}')\n",
    "\n",
    "\n",
    "model.train()\n",
    "for epoch in range(1):\n",
    "    for data, cur_target in train_loader:\n",
    "        optimizer.zero_grad()\n",
    "\n",
    "        data, cur_target = data.to(device), cur_target.to(device)\n",
    "        output = model(data)\n",
    "\n",
    "        loss = criterion(output, cur_target)\n",
    "\n",
    "        loss.backward()\n",
    "        optimizer.step()\n",
    "\n",
    "\n",
    "model.eval()\n",
    "preds = []\n",
    "with torch.no_grad():\n",
    "    for data, _ in valid_loader:\n",
    "        output = model(data)\n",
    "        preds.append(output.detach().cpu().numpy())\n",
    "preds = np.concatenate(preds)[:, 1]\n",
    "print(f'End score: {round(metrics.roc_auc_score(valid_target[\"target\"], preds), 6)}')\n",
    "\n",
    "torch.save(model.state_dict(), 'nn_weights_new.ckpt')"
   ]
  },
  {
   "cell_type": "code",
   "execution_count": 2,
   "metadata": {},
   "outputs": [
    {
     "data": {
      "image/png": "[encoded data removed]",
      "text/plain": [
       "<Figure size 640x480 with 1 Axes>"
      ]
     },
     "metadata": {},
     "output_type": "display_data"
    }
   ],
   "source": [
    "valid_target['pred'] = preds\n",
    "\n",
    "cur_val_target = valid_target[valid_target.pred < 0.15]\n",
    "\n",
    "import matplotlib.pyplot as plt\n",
    "cur_val_target.pred.hist(bins=30)\n",
    "plt.hist(cur_val_target[cur_val_target.target == 1].pred.tolist()*5, bins=30)\n",
    "None"
   ]
  }
 ],
 "metadata": {
  "kernelspec": {
   "display_name": "venv_1",
   "language": "python",
   "name": "python3"
  },
  "language_info": {
   "codemirror_mode": {
    "name": "ipython",
    "version": 3
   },
   "file_extension": ".py",
   "mimetype": "text/x-python",
   "name": "python",
   "nbconvert_exporter": "python",
   "pygments_lexer": "ipython3",
   "version": "3.11.0"
  },
  "orig_nbformat": 4
 },
 "nbformat": 4,
 "nbformat_minor": 2
}
